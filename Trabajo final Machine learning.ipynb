{
 "cells": [
  {
   "cell_type": "markdown",
   "metadata": {},
   "source": [
    "**Introducción**: El siguiente trabajo contiene un dataset que recopila transacciones realizadas con tarjetas de crédito en septiembre de 2013 por titulares de tarjetas europeos; el objetivo de este trabajo es poder obtener un clasificador que nos ayude a identificar cuando una transacción es fraudulenta y cuando no (1=fraude, 0=no), Para lograr esto vamos a seleccionar algunos clasificadores vistos en clase y asociarles algunas medidas para comparar su desempeño; el clasificador a escoger sera aquel que se comporte mejor en cada una de las medidas asociadas a el y su tiempo computacional de entrenamiento sea menor con respecto a los otros.\n",
    "    "
   ]
  },
  {
   "cell_type": "code",
   "execution_count": 71,
   "metadata": {},
   "outputs": [],
   "source": [
    "#Librerias usadas en el trabajo\n",
    "import pandas as pd\n",
    "import numpy as np\n",
    "import matplotlib.pyplot as plt\n",
    "from sklearn import preprocessing\n",
    "import sklearn.linear_model\n",
    "import sklearn.tree\n",
    "import sklearn.ensemble\n",
    "from sklearn import metrics\n",
    "import time\n",
    "from sklearn.model_selection import train_test_split\n",
    "from sklearn.model_selection import cross_val_predict\n"
   ]
  },
  {
   "cell_type": "code",
   "execution_count": 118,
   "metadata": {
    "scrolled": true
   },
   "outputs": [
    {
     "data": {
      "text/html": [
       "<div>\n",
       "<style scoped>\n",
       "    .dataframe tbody tr th:only-of-type {\n",
       "        vertical-align: middle;\n",
       "    }\n",
       "\n",
       "    .dataframe tbody tr th {\n",
       "        vertical-align: top;\n",
       "    }\n",
       "\n",
       "    .dataframe thead th {\n",
       "        text-align: right;\n",
       "    }\n",
       "</style>\n",
       "<table border=\"1\" class=\"dataframe\">\n",
       "  <thead>\n",
       "    <tr style=\"text-align: right;\">\n",
       "      <th></th>\n",
       "      <th>Time</th>\n",
       "      <th>V1</th>\n",
       "      <th>V2</th>\n",
       "      <th>V3</th>\n",
       "      <th>V4</th>\n",
       "      <th>V5</th>\n",
       "      <th>V6</th>\n",
       "      <th>V7</th>\n",
       "      <th>V8</th>\n",
       "      <th>V9</th>\n",
       "      <th>...</th>\n",
       "      <th>V21</th>\n",
       "      <th>V22</th>\n",
       "      <th>V23</th>\n",
       "      <th>V24</th>\n",
       "      <th>V25</th>\n",
       "      <th>V26</th>\n",
       "      <th>V27</th>\n",
       "      <th>V28</th>\n",
       "      <th>Amount</th>\n",
       "      <th>Class</th>\n",
       "    </tr>\n",
       "  </thead>\n",
       "  <tbody>\n",
       "    <tr>\n",
       "      <th>0</th>\n",
       "      <td>0.0</td>\n",
       "      <td>-1.359807</td>\n",
       "      <td>-0.072781</td>\n",
       "      <td>2.536347</td>\n",
       "      <td>1.378155</td>\n",
       "      <td>-0.338321</td>\n",
       "      <td>0.462388</td>\n",
       "      <td>0.239599</td>\n",
       "      <td>0.098698</td>\n",
       "      <td>0.363787</td>\n",
       "      <td>...</td>\n",
       "      <td>-0.018307</td>\n",
       "      <td>0.277838</td>\n",
       "      <td>-0.110474</td>\n",
       "      <td>0.066928</td>\n",
       "      <td>0.128539</td>\n",
       "      <td>-0.189115</td>\n",
       "      <td>0.133558</td>\n",
       "      <td>-0.021053</td>\n",
       "      <td>149.62</td>\n",
       "      <td>0</td>\n",
       "    </tr>\n",
       "    <tr>\n",
       "      <th>1</th>\n",
       "      <td>0.0</td>\n",
       "      <td>1.191857</td>\n",
       "      <td>0.266151</td>\n",
       "      <td>0.166480</td>\n",
       "      <td>0.448154</td>\n",
       "      <td>0.060018</td>\n",
       "      <td>-0.082361</td>\n",
       "      <td>-0.078803</td>\n",
       "      <td>0.085102</td>\n",
       "      <td>-0.255425</td>\n",
       "      <td>...</td>\n",
       "      <td>-0.225775</td>\n",
       "      <td>-0.638672</td>\n",
       "      <td>0.101288</td>\n",
       "      <td>-0.339846</td>\n",
       "      <td>0.167170</td>\n",
       "      <td>0.125895</td>\n",
       "      <td>-0.008983</td>\n",
       "      <td>0.014724</td>\n",
       "      <td>2.69</td>\n",
       "      <td>0</td>\n",
       "    </tr>\n",
       "    <tr>\n",
       "      <th>2</th>\n",
       "      <td>1.0</td>\n",
       "      <td>-1.358354</td>\n",
       "      <td>-1.340163</td>\n",
       "      <td>1.773209</td>\n",
       "      <td>0.379780</td>\n",
       "      <td>-0.503198</td>\n",
       "      <td>1.800499</td>\n",
       "      <td>0.791461</td>\n",
       "      <td>0.247676</td>\n",
       "      <td>-1.514654</td>\n",
       "      <td>...</td>\n",
       "      <td>0.247998</td>\n",
       "      <td>0.771679</td>\n",
       "      <td>0.909412</td>\n",
       "      <td>-0.689281</td>\n",
       "      <td>-0.327642</td>\n",
       "      <td>-0.139097</td>\n",
       "      <td>-0.055353</td>\n",
       "      <td>-0.059752</td>\n",
       "      <td>378.66</td>\n",
       "      <td>0</td>\n",
       "    </tr>\n",
       "    <tr>\n",
       "      <th>3</th>\n",
       "      <td>1.0</td>\n",
       "      <td>-0.966272</td>\n",
       "      <td>-0.185226</td>\n",
       "      <td>1.792993</td>\n",
       "      <td>-0.863291</td>\n",
       "      <td>-0.010309</td>\n",
       "      <td>1.247203</td>\n",
       "      <td>0.237609</td>\n",
       "      <td>0.377436</td>\n",
       "      <td>-1.387024</td>\n",
       "      <td>...</td>\n",
       "      <td>-0.108300</td>\n",
       "      <td>0.005274</td>\n",
       "      <td>-0.190321</td>\n",
       "      <td>-1.175575</td>\n",
       "      <td>0.647376</td>\n",
       "      <td>-0.221929</td>\n",
       "      <td>0.062723</td>\n",
       "      <td>0.061458</td>\n",
       "      <td>123.50</td>\n",
       "      <td>0</td>\n",
       "    </tr>\n",
       "    <tr>\n",
       "      <th>4</th>\n",
       "      <td>2.0</td>\n",
       "      <td>-1.158233</td>\n",
       "      <td>0.877737</td>\n",
       "      <td>1.548718</td>\n",
       "      <td>0.403034</td>\n",
       "      <td>-0.407193</td>\n",
       "      <td>0.095921</td>\n",
       "      <td>0.592941</td>\n",
       "      <td>-0.270533</td>\n",
       "      <td>0.817739</td>\n",
       "      <td>...</td>\n",
       "      <td>-0.009431</td>\n",
       "      <td>0.798278</td>\n",
       "      <td>-0.137458</td>\n",
       "      <td>0.141267</td>\n",
       "      <td>-0.206010</td>\n",
       "      <td>0.502292</td>\n",
       "      <td>0.219422</td>\n",
       "      <td>0.215153</td>\n",
       "      <td>69.99</td>\n",
       "      <td>0</td>\n",
       "    </tr>\n",
       "  </tbody>\n",
       "</table>\n",
       "<p>5 rows × 31 columns</p>\n",
       "</div>"
      ],
      "text/plain": [
       "   Time        V1        V2        V3        V4        V5        V6        V7  \\\n",
       "0   0.0 -1.359807 -0.072781  2.536347  1.378155 -0.338321  0.462388  0.239599   \n",
       "1   0.0  1.191857  0.266151  0.166480  0.448154  0.060018 -0.082361 -0.078803   \n",
       "2   1.0 -1.358354 -1.340163  1.773209  0.379780 -0.503198  1.800499  0.791461   \n",
       "3   1.0 -0.966272 -0.185226  1.792993 -0.863291 -0.010309  1.247203  0.237609   \n",
       "4   2.0 -1.158233  0.877737  1.548718  0.403034 -0.407193  0.095921  0.592941   \n",
       "\n",
       "         V8        V9  ...       V21       V22       V23       V24       V25  \\\n",
       "0  0.098698  0.363787  ... -0.018307  0.277838 -0.110474  0.066928  0.128539   \n",
       "1  0.085102 -0.255425  ... -0.225775 -0.638672  0.101288 -0.339846  0.167170   \n",
       "2  0.247676 -1.514654  ...  0.247998  0.771679  0.909412 -0.689281 -0.327642   \n",
       "3  0.377436 -1.387024  ... -0.108300  0.005274 -0.190321 -1.175575  0.647376   \n",
       "4 -0.270533  0.817739  ... -0.009431  0.798278 -0.137458  0.141267 -0.206010   \n",
       "\n",
       "        V26       V27       V28  Amount  Class  \n",
       "0 -0.189115  0.133558 -0.021053  149.62      0  \n",
       "1  0.125895 -0.008983  0.014724    2.69      0  \n",
       "2 -0.139097 -0.055353 -0.059752  378.66      0  \n",
       "3 -0.221929  0.062723  0.061458  123.50      0  \n",
       "4  0.502292  0.219422  0.215153   69.99      0  \n",
       "\n",
       "[5 rows x 31 columns]"
      ]
     },
     "execution_count": 118,
     "metadata": {},
     "output_type": "execute_result"
    }
   ],
   "source": [
    "#lectura del dataset matriz de 284,807x31\n",
    "df=pd.read_csv('creditcard.csv')\n",
    "df.head()"
   ]
  },
  {
   "cell_type": "code",
   "execution_count": 119,
   "metadata": {},
   "outputs": [],
   "source": [
    "#Extraccion de la coluumna a la cual se le van a predecir los resultados\n",
    "y = df.pop('Class')\n",
    "X = df"
   ]
  },
  {
   "cell_type": "code",
   "execution_count": 120,
   "metadata": {},
   "outputs": [],
   "source": [
    "#Utilizando la funnción split de sklearn dividimos los datos en datos de entrenamiento y testeo,estos datos se guardan en dos dataframes. \n",
    "X_train,X_test,y_train,y_test = train_test_split(X.index,y,test_size=0.2)\n",
    "scaler = preprocessing.StandardScaler()\n",
    "traindf_scaled=pd.DataFrame(scaler.fit_transform(X.iloc[X_train]), columns=X.columns)\n",
    "testdf_scaled=pd.DataFrame(scaler.fit_transform(X.iloc[X_test]), columns=X.columns)"
   ]
  },
  {
   "cell_type": "code",
   "execution_count": 6,
   "metadata": {},
   "outputs": [],
   "source": [
    "#Funcion que recibe los pesos que se van a usar para predecir la variable de respuesta (Class), asi como el conjunto de testeo,entrenamiento y el clasificador\n",
    "def fit_model_and_get_predictions(classifier, train_df, test_df,y_train, \n",
    "                                  input_features):\n",
    "\n",
    "    \n",
    "    #Se entrena el clasificador y se mide el tiempo que este se demora; input_features son nuestras variables de entrada\n",
    "    start_time=time.time()\n",
    "    classifier.fit(train_df[input_features],y_train)\n",
    "    training_execution_time=time.time()-start_time \n",
    "\n",
    "    # Hacemos las predicciones para el conjunto de testeo y entrenamiento y medimos su tiempo de ejecucion \n",
    "    # Las predicciones son returnadas como un arreglo de numpy, lo cual nos devuelve la probabilidad de fraude de cada transaccion \n",
    "    start_time=time.time()\n",
    "    predictions_test=classifier.predict_proba(test_df[input_features])[:,1]\n",
    "    prediction_execution_time=time.time()-start_time\n",
    "    \n",
    "    predictions_train=classifier.predict_proba(train_df[input_features])[:,1]\n",
    "\n",
    "    # Retornamos todo como un diccionario el cual va a contener el clasificador entrenado, \n",
    "    # las predicciones en el conjunto de testeo y entrenamiento y los tiempos de ejecuciones respectivos. \n",
    "    model_and_predictions_dictionary = {'classifier': classifier,\n",
    "                                        'predictions_test': predictions_test,\n",
    "                                        'predictions_train': predictions_train,\n",
    "                                        'training_execution_time': training_execution_time,\n",
    "                                        'prediction_execution_time': prediction_execution_time\n",
    "                                       }\n",
    "    \n",
    "    return model_and_predictions_dictionary"
   ]
  },
  {
   "cell_type": "code",
   "execution_count": 82,
   "metadata": {},
   "outputs": [],
   "source": [
    "#variables de entrada\n",
    "input_features=['Time','V1', 'V2', 'V3',\n",
    "       'V4', 'V5',\n",
    "       'V6', 'V7',\n",
    "       'V8', 'V9',\n",
    "       'V10', 'V11',\n",
    "       'V12', 'V13',\n",
    "       'V14','V15','V16','V17','V18','V19','V20','V21','V22','V23','V24','V25','V26','V27','V28','Amount']\n",
    "#Funcion para calcular las medidas de precision y recuperabilidad en conjunto de testeo y entrenamiento \n",
    "def performance_assessment(predictions_df,y,prediction_feature='predictions'):\n",
    "    \n",
    "    AUC_ROC = metrics.roc_auc_score(y, predictions_df[prediction_feature])\n",
    "    AP = metrics.average_precision_score(y, predictions_df[prediction_feature])\n",
    "    \n",
    "    performances = pd.DataFrame([[AUC_ROC, AP]], \n",
    "                           columns=['AUC ROC','Average precision'])\n",
    "    \n",
    "    return performances\n",
    "#Funcion que guarda en un dataframe de pandas las medidas de precision y recuperabilidad para cada clasificador,\n",
    "#para el conjunto de testeo y entrenamiento\n",
    "def performance_assessment_model_collection(fitted_models_and_predictions_dictionary,transactions_df,y,type_set='test'):\n",
    "\n",
    "    performances=pd.DataFrame() \n",
    "    \n",
    "    for classifier_name, model_and_predictions in fitted_models_and_predictions_dictionary.items():\n",
    "    \n",
    "        predictions_df=transactions_df\n",
    "            \n",
    "        predictions_df['predictions']=model_and_predictions['predictions_'+type_set]\n",
    "        \n",
    "        performances_model=performance_assessment(predictions_df,y,prediction_feature='predictions')\n",
    "        performances_model.index=[classifier_name]\n",
    "        \n",
    "        performances=performances.append(performances_model)\n",
    "        \n",
    "    return performances\n"
   ]
  },
  {
   "cell_type": "code",
   "execution_count": 76,
   "metadata": {},
   "outputs": [],
   "source": [
    "#Diccionario que recopila todos los clasificadores que van a ser comparados para una respectiva eleccion del mejor\n",
    "classifiers_dictionary={'Logistic regression':sklearn.linear_model.LogisticRegression(random_state=0), \n",
    "                        'Decision tree with depth of two':sklearn.tree.DecisionTreeClassifier(max_depth=2,random_state=0), \n",
    "                        'Decision tree - unlimited depth':sklearn.tree.DecisionTreeClassifier(random_state=0), \n",
    "                        'Random forest':sklearn.ensemble.RandomForestClassifier(random_state=0,n_jobs=-1)}\n",
    "\n",
    "fitted_models_and_predictions_dictionary={}\n",
    "#Ciclo for para guardar los resultados de las predicciones y tiempos de ejecuciones en conjunto de testeo y entrenamiento,\n",
    "#para cada clasificador\n",
    "for classifier_name in classifiers_dictionary:\n",
    "    \n",
    "    model_and_predictions = fit_model_and_get_predictions(classifiers_dictionary[classifier_name], train_df=traindf_scaled, test_df=testdf_scaled,y_train=y_train, \n",
    "                                                                                  input_features=input_features)\n",
    "    fitted_models_and_predictions_dictionary[classifier_name]=model_and_predictions"
   ]
  },
  {
   "cell_type": "code",
   "execution_count": 77,
   "metadata": {},
   "outputs": [
    {
     "data": {
      "text/plain": [
       "{'Logistic regression': {'classifier': LogisticRegression(random_state=0),\n",
       "  'predictions_test': array([3.38387766e-04, 8.28453229e-05, 1.32179292e-04, ...,\n",
       "         2.65689870e-04, 2.47510605e-04, 6.33603644e-06]),\n",
       "  'predictions_train': array([3.39322099e-04, 4.37561261e-04, 1.25529828e-04, ...,\n",
       "         7.07917954e-05, 3.42831326e-04, 7.05545532e-05]),\n",
       "  'training_execution_time': 1.8236267566680908,\n",
       "  'prediction_execution_time': 0.02007126808166504},\n",
       " 'Decision tree with depth of two': {'classifier': DecisionTreeClassifier(max_depth=2, random_state=0),\n",
       "  'predictions_test': array([0.00040448, 0.00040448, 0.00040448, ..., 0.00040448, 0.00040448,\n",
       "         0.00040448]),\n",
       "  'predictions_train': array([0.00040448, 0.00040448, 0.00040448, ..., 0.00040448, 0.00040448,\n",
       "         0.00040448]),\n",
       "  'training_execution_time': 2.305269241333008,\n",
       "  'prediction_execution_time': 0.018056631088256836},\n",
       " 'Decision tree - unlimited depth': {'classifier': DecisionTreeClassifier(random_state=0),\n",
       "  'predictions_test': array([0., 0., 0., ..., 0., 0., 0.]),\n",
       "  'predictions_train': array([0., 0., 0., ..., 0., 0., 0.]),\n",
       "  'training_execution_time': 20.980382204055786,\n",
       "  'prediction_execution_time': 0.015628576278686523},\n",
       " 'Random forest': {'classifier': RandomForestClassifier(n_jobs=-1, random_state=0),\n",
       "  'predictions_test': array([0., 0., 0., ..., 0., 0., 0.]),\n",
       "  'predictions_train': array([0., 0., 0., ..., 0., 0., 0.]),\n",
       "  'training_execution_time': 91.3664083480835,\n",
       "  'prediction_execution_time': 0.2672097682952881}}"
      ]
     },
     "execution_count": 77,
     "metadata": {},
     "output_type": "execute_result"
    }
   ],
   "source": [
    "fitted_models_and_predictions_dictionary"
   ]
  },
  {
   "cell_type": "code",
   "execution_count": 83,
   "metadata": {},
   "outputs": [
    {
     "data": {
      "text/html": [
       "<div>\n",
       "<style scoped>\n",
       "    .dataframe tbody tr th:only-of-type {\n",
       "        vertical-align: middle;\n",
       "    }\n",
       "\n",
       "    .dataframe tbody tr th {\n",
       "        vertical-align: top;\n",
       "    }\n",
       "\n",
       "    .dataframe thead th {\n",
       "        text-align: right;\n",
       "    }\n",
       "</style>\n",
       "<table border=\"1\" class=\"dataframe\">\n",
       "  <thead>\n",
       "    <tr style=\"text-align: right;\">\n",
       "      <th></th>\n",
       "      <th>AUC ROC</th>\n",
       "      <th>Average precision</th>\n",
       "    </tr>\n",
       "  </thead>\n",
       "  <tbody>\n",
       "    <tr>\n",
       "      <th>Logistic regression</th>\n",
       "      <td>0.988354</td>\n",
       "      <td>0.779890</td>\n",
       "    </tr>\n",
       "    <tr>\n",
       "      <th>Decision tree with depth of two</th>\n",
       "      <td>0.862629</td>\n",
       "      <td>0.631444</td>\n",
       "    </tr>\n",
       "    <tr>\n",
       "      <th>Decision tree - unlimited depth</th>\n",
       "      <td>0.891972</td>\n",
       "      <td>0.621625</td>\n",
       "    </tr>\n",
       "    <tr>\n",
       "      <th>Random forest</th>\n",
       "      <td>0.948116</td>\n",
       "      <td>0.854116</td>\n",
       "    </tr>\n",
       "  </tbody>\n",
       "</table>\n",
       "</div>"
      ],
      "text/plain": [
       "                                  AUC ROC  Average precision\n",
       "Logistic regression              0.988354           0.779890\n",
       "Decision tree with depth of two  0.862629           0.631444\n",
       "Decision tree - unlimited depth  0.891972           0.621625\n",
       "Random forest                    0.948116           0.854116"
      ]
     },
     "execution_count": 83,
     "metadata": {},
     "output_type": "execute_result"
    }
   ],
   "source": [
    "# Creacion del dataset que contiene las medidas de precision y recuperabilidad para cada clasificador en el conjunto de testeo\n",
    "df_performances=performance_assessment_model_collection(fitted_models_and_predictions_dictionary,transactions_df=testdf_scaled,y=y_test,type_set='test')\n",
    "df_performances.head()"
   ]
  },
  {
   "cell_type": "code",
   "execution_count": 84,
   "metadata": {},
   "outputs": [
    {
     "data": {
      "text/html": [
       "<div>\n",
       "<style scoped>\n",
       "    .dataframe tbody tr th:only-of-type {\n",
       "        vertical-align: middle;\n",
       "    }\n",
       "\n",
       "    .dataframe tbody tr th {\n",
       "        vertical-align: top;\n",
       "    }\n",
       "\n",
       "    .dataframe thead th {\n",
       "        text-align: right;\n",
       "    }\n",
       "</style>\n",
       "<table border=\"1\" class=\"dataframe\">\n",
       "  <thead>\n",
       "    <tr style=\"text-align: right;\">\n",
       "      <th></th>\n",
       "      <th>AUC ROC</th>\n",
       "      <th>Average precision</th>\n",
       "    </tr>\n",
       "  </thead>\n",
       "  <tbody>\n",
       "    <tr>\n",
       "      <th>Logistic regression</th>\n",
       "      <td>0.974056</td>\n",
       "      <td>0.763528</td>\n",
       "    </tr>\n",
       "    <tr>\n",
       "      <th>Decision tree with depth of two</th>\n",
       "      <td>0.881893</td>\n",
       "      <td>0.629163</td>\n",
       "    </tr>\n",
       "    <tr>\n",
       "      <th>Decision tree - unlimited depth</th>\n",
       "      <td>1.000000</td>\n",
       "      <td>1.000000</td>\n",
       "    </tr>\n",
       "    <tr>\n",
       "      <th>Random forest</th>\n",
       "      <td>1.000000</td>\n",
       "      <td>1.000000</td>\n",
       "    </tr>\n",
       "  </tbody>\n",
       "</table>\n",
       "</div>"
      ],
      "text/plain": [
       "                                  AUC ROC  Average precision\n",
       "Logistic regression              0.974056           0.763528\n",
       "Decision tree with depth of two  0.881893           0.629163\n",
       "Decision tree - unlimited depth  1.000000           1.000000\n",
       "Random forest                    1.000000           1.000000"
      ]
     },
     "execution_count": 84,
     "metadata": {},
     "output_type": "execute_result"
    }
   ],
   "source": [
    "# Creacion del dataset que contiene las medidas de precision y recuperabilidad para cada clasificador en el conjunto de entrenamiento\n",
    "df_performances_train=performance_assessment_model_collection(fitted_models_and_predictions_dictionary,transactions_df=traindf_scaled,y=y_train,type_set='train')\n",
    "df_performances_train"
   ]
  },
  {
   "cell_type": "code",
   "execution_count": 101,
   "metadata": {},
   "outputs": [],
   "source": [
    "#Funcion que crea un dataframe de pandas para guardar los tiempos de entrenamiento y prediccion\n",
    "def execution_times_model_collection(fitted_models_and_predictions_dictionary):\n",
    "\n",
    "    execution_times=pd.DataFrame() \n",
    "    \n",
    "    for classifier_name, model_and_predictions in fitted_models_and_predictions_dictionary.items():\n",
    "    \n",
    "        execution_times_model=pd.DataFrame() \n",
    "        execution_times_model['Training execution time']=[model_and_predictions['training_execution_time']]\n",
    "        execution_times_model['Prediction execution time']=[model_and_predictions['prediction_execution_time']]\n",
    "        execution_times_model.index=[classifier_name]\n",
    "        \n",
    "        execution_times=execution_times.append(execution_times_model)\n",
    "        \n",
    "    return execution_times"
   ]
  },
  {
   "cell_type": "code",
   "execution_count": 108,
   "metadata": {},
   "outputs": [
    {
     "data": {
      "text/html": [
       "<div>\n",
       "<style scoped>\n",
       "    .dataframe tbody tr th:only-of-type {\n",
       "        vertical-align: middle;\n",
       "    }\n",
       "\n",
       "    .dataframe tbody tr th {\n",
       "        vertical-align: top;\n",
       "    }\n",
       "\n",
       "    .dataframe thead th {\n",
       "        text-align: right;\n",
       "    }\n",
       "</style>\n",
       "<table border=\"1\" class=\"dataframe\">\n",
       "  <thead>\n",
       "    <tr style=\"text-align: right;\">\n",
       "      <th></th>\n",
       "      <th>Training execution time</th>\n",
       "      <th>Prediction execution time</th>\n",
       "    </tr>\n",
       "  </thead>\n",
       "  <tbody>\n",
       "    <tr>\n",
       "      <th>Logistic regression</th>\n",
       "      <td>1.823627</td>\n",
       "      <td>0.020071</td>\n",
       "    </tr>\n",
       "    <tr>\n",
       "      <th>Decision tree with depth of two</th>\n",
       "      <td>2.305269</td>\n",
       "      <td>0.018057</td>\n",
       "    </tr>\n",
       "    <tr>\n",
       "      <th>Decision tree - unlimited depth</th>\n",
       "      <td>20.980382</td>\n",
       "      <td>0.015629</td>\n",
       "    </tr>\n",
       "    <tr>\n",
       "      <th>Random forest</th>\n",
       "      <td>91.366408</td>\n",
       "      <td>0.267210</td>\n",
       "    </tr>\n",
       "    <tr>\n",
       "      <th>SGDClassifier</th>\n",
       "      <td>3.477875</td>\n",
       "      <td>0.030423</td>\n",
       "    </tr>\n",
       "  </tbody>\n",
       "</table>\n",
       "</div>"
      ],
      "text/plain": [
       "                                 Training execution time  \\\n",
       "Logistic regression                             1.823627   \n",
       "Decision tree with depth of two                 2.305269   \n",
       "Decision tree - unlimited depth                20.980382   \n",
       "Random forest                                  91.366408   \n",
       "SGDClassifier                                   3.477875   \n",
       "\n",
       "                                 Prediction execution time  \n",
       "Logistic regression                               0.020071  \n",
       "Decision tree with depth of two                   0.018057  \n",
       "Decision tree - unlimited depth                   0.015629  \n",
       "Random forest                                     0.267210  \n",
       "SGDClassifier                                     0.030423  "
      ]
     },
     "execution_count": 108,
     "metadata": {},
     "output_type": "execute_result"
    }
   ],
   "source": [
    "# Dataframe que contiene  los tiempos de entrenamiento y prediccion para cada clasificador\n",
    "df_execution_times=execution_times_model_collection(fitted_models_and_predictions_dictionary)\n",
    "df_execution_times\n"
   ]
  },
  {
   "cell_type": "code",
   "execution_count": 103,
   "metadata": {},
   "outputs": [
    {
     "data": {
      "text/plain": [
       "0.017412424087524414"
      ]
     },
     "execution_count": 103,
     "metadata": {},
     "output_type": "execute_result"
    }
   ],
   "source": [
    "#Creacion de predicciones con el clasificador SGDC usando el conjunto de testeo\n",
    "classifier = sklearn.linear_model.SGDClassifier(max_iter=1000, tol=1e-3, random_state=42,loss='modified_huber')\n",
    "classifier.fit(traindf_scaled[input_features],y_train)\n",
    "start_time_test=time.time()\n",
    "predictions_test =classifier.predict_proba(testdf_scaled[input_features])[:,1]\n",
    "prediction_execution_time=time.time()-start_time_test\n",
    "prediction_execution_time"
   ]
  },
  {
   "cell_type": "code",
   "execution_count": 104,
   "metadata": {},
   "outputs": [
    {
     "data": {
      "text/html": [
       "<div>\n",
       "<style scoped>\n",
       "    .dataframe tbody tr th:only-of-type {\n",
       "        vertical-align: middle;\n",
       "    }\n",
       "\n",
       "    .dataframe tbody tr th {\n",
       "        vertical-align: top;\n",
       "    }\n",
       "\n",
       "    .dataframe thead th {\n",
       "        text-align: right;\n",
       "    }\n",
       "</style>\n",
       "<table border=\"1\" class=\"dataframe\">\n",
       "  <thead>\n",
       "    <tr style=\"text-align: right;\">\n",
       "      <th></th>\n",
       "      <th>AUC ROC</th>\n",
       "      <th>Average precision</th>\n",
       "    </tr>\n",
       "  </thead>\n",
       "  <tbody>\n",
       "    <tr>\n",
       "      <th>Logistic regression</th>\n",
       "      <td>0.988354</td>\n",
       "      <td>0.779890</td>\n",
       "    </tr>\n",
       "    <tr>\n",
       "      <th>Decision tree with depth of two</th>\n",
       "      <td>0.862629</td>\n",
       "      <td>0.631444</td>\n",
       "    </tr>\n",
       "    <tr>\n",
       "      <th>Decision tree - unlimited depth</th>\n",
       "      <td>0.891972</td>\n",
       "      <td>0.621625</td>\n",
       "    </tr>\n",
       "    <tr>\n",
       "      <th>Random forest</th>\n",
       "      <td>0.948116</td>\n",
       "      <td>0.854116</td>\n",
       "    </tr>\n",
       "    <tr>\n",
       "      <th>SGDClassifier</th>\n",
       "      <td>0.769555</td>\n",
       "      <td>0.494211</td>\n",
       "    </tr>\n",
       "  </tbody>\n",
       "</table>\n",
       "</div>"
      ],
      "text/plain": [
       "                                  AUC ROC  Average precision\n",
       "Logistic regression              0.988354           0.779890\n",
       "Decision tree with depth of two  0.862629           0.631444\n",
       "Decision tree - unlimited depth  0.891972           0.621625\n",
       "Random forest                    0.948116           0.854116\n",
       "SGDClassifier                    0.769555           0.494211"
      ]
     },
     "execution_count": 104,
     "metadata": {},
     "output_type": "execute_result"
    }
   ],
   "source": [
    "# medidas de precision y recuperabilidad en el conjunto de testeo para el clasificador SGDC \n",
    "AUC_ROC = metrics.roc_auc_score(y_test, predictions_test)\n",
    "AP = metrics.average_precision_score(y_test, predictions_test)\n",
    "performances = pd.DataFrame([[AUC_ROC, AP]], \n",
    "                           columns=['AUC ROC','Average precision'])\n",
    "performances.index=['SGDClassifier']\n",
    "df_performances.loc[4]=[performances['AUC ROC'][0],performances['Average precision'][0]]\n",
    "df_performances.rename(index={4: 'SGDClassifier'})\n"
   ]
  },
  {
   "cell_type": "markdown",
   "metadata": {},
   "source": [
    "Notemos que el clasificador logístico y el clasificador random forest son los que presentan un mejor rendimiento con respecto a los otros tres clasificadores; de todos los 5 clasificadores el que tuvo la precisión más baja fue el de gradiente descendente, esto tal vez se debe a la escogencia de los hiperparámetros que debe tener el modelo."
   ]
  },
  {
   "cell_type": "code",
   "execution_count": 105,
   "metadata": {},
   "outputs": [
    {
     "data": {
      "text/plain": [
       "4.549698114395142"
      ]
     },
     "execution_count": 105,
     "metadata": {},
     "output_type": "execute_result"
    }
   ],
   "source": [
    "#Creacion de predicciones con el clasificador SGDC usando el conjunto de entrenamiento\n",
    "start_time=time.time()\n",
    "classifier.fit(traindf_scaled[input_features],y_train)\n",
    "predictions_train=classifier.predict_proba(traindf_scaled[input_features])[:,1]\n",
    "training_execution_time=time.time()-start_time\n",
    "training_execution_time"
   ]
  },
  {
   "cell_type": "code",
   "execution_count": 106,
   "metadata": {},
   "outputs": [
    {
     "data": {
      "text/html": [
       "<div>\n",
       "<style scoped>\n",
       "    .dataframe tbody tr th:only-of-type {\n",
       "        vertical-align: middle;\n",
       "    }\n",
       "\n",
       "    .dataframe tbody tr th {\n",
       "        vertical-align: top;\n",
       "    }\n",
       "\n",
       "    .dataframe thead th {\n",
       "        text-align: right;\n",
       "    }\n",
       "</style>\n",
       "<table border=\"1\" class=\"dataframe\">\n",
       "  <thead>\n",
       "    <tr style=\"text-align: right;\">\n",
       "      <th></th>\n",
       "      <th>AUC ROC</th>\n",
       "      <th>Average precision</th>\n",
       "    </tr>\n",
       "  </thead>\n",
       "  <tbody>\n",
       "    <tr>\n",
       "      <th>Logistic regression</th>\n",
       "      <td>0.974056</td>\n",
       "      <td>0.763528</td>\n",
       "    </tr>\n",
       "    <tr>\n",
       "      <th>Decision tree with depth of two</th>\n",
       "      <td>0.881893</td>\n",
       "      <td>0.629163</td>\n",
       "    </tr>\n",
       "    <tr>\n",
       "      <th>Decision tree - unlimited depth</th>\n",
       "      <td>1.000000</td>\n",
       "      <td>1.000000</td>\n",
       "    </tr>\n",
       "    <tr>\n",
       "      <th>Random forest</th>\n",
       "      <td>1.000000</td>\n",
       "      <td>1.000000</td>\n",
       "    </tr>\n",
       "    <tr>\n",
       "      <th>SGDClassifier</th>\n",
       "      <td>0.778125</td>\n",
       "      <td>0.477675</td>\n",
       "    </tr>\n",
       "  </tbody>\n",
       "</table>\n",
       "</div>"
      ],
      "text/plain": [
       "                                  AUC ROC  Average precision\n",
       "Logistic regression              0.974056           0.763528\n",
       "Decision tree with depth of two  0.881893           0.629163\n",
       "Decision tree - unlimited depth  1.000000           1.000000\n",
       "Random forest                    1.000000           1.000000\n",
       "SGDClassifier                    0.778125           0.477675"
      ]
     },
     "execution_count": 106,
     "metadata": {},
     "output_type": "execute_result"
    }
   ],
   "source": [
    "# performances on train set for SGDClassifier and append to perfomance dataframe for other models\n",
    "AUC_ROC = metrics.roc_auc_score(y_train,predictions_train)\n",
    "AP = metrics.average_precision_score(y_train,predictions_train)\n",
    "performances_train = pd.DataFrame([[AUC_ROC, AP]], \n",
    "                           columns=['AUC ROC','Average precision'])\n",
    "performances_train.index=['SGDClassifier']\n",
    "performances_train\n",
    "df_performances_train.loc[4]=[performances_train['AUC ROC'][0],performances_train['Average precision'][0]]\n",
    "df_performances_train.rename(index={4: 'SGDClassifier'})\n"
   ]
  },
  {
   "cell_type": "code",
   "execution_count": 107,
   "metadata": {},
   "outputs": [
    {
     "data": {
      "text/html": [
       "<div>\n",
       "<style scoped>\n",
       "    .dataframe tbody tr th:only-of-type {\n",
       "        vertical-align: middle;\n",
       "    }\n",
       "\n",
       "    .dataframe tbody tr th {\n",
       "        vertical-align: top;\n",
       "    }\n",
       "\n",
       "    .dataframe thead th {\n",
       "        text-align: right;\n",
       "    }\n",
       "</style>\n",
       "<table border=\"1\" class=\"dataframe\">\n",
       "  <thead>\n",
       "    <tr style=\"text-align: right;\">\n",
       "      <th></th>\n",
       "      <th>Training execution time</th>\n",
       "      <th>Prediction execution time</th>\n",
       "    </tr>\n",
       "  </thead>\n",
       "  <tbody>\n",
       "    <tr>\n",
       "      <th>Logistic regression</th>\n",
       "      <td>1.823627</td>\n",
       "      <td>0.020071</td>\n",
       "    </tr>\n",
       "    <tr>\n",
       "      <th>Decision tree with depth of two</th>\n",
       "      <td>2.305269</td>\n",
       "      <td>0.018057</td>\n",
       "    </tr>\n",
       "    <tr>\n",
       "      <th>Decision tree - unlimited depth</th>\n",
       "      <td>20.980382</td>\n",
       "      <td>0.015629</td>\n",
       "    </tr>\n",
       "    <tr>\n",
       "      <th>Random forest</th>\n",
       "      <td>91.366408</td>\n",
       "      <td>0.267210</td>\n",
       "    </tr>\n",
       "    <tr>\n",
       "      <th>SGDClassifier</th>\n",
       "      <td>3.477875</td>\n",
       "      <td>0.030423</td>\n",
       "    </tr>\n",
       "    <tr>\n",
       "      <th>SGDClassifier</th>\n",
       "      <td>4.549698</td>\n",
       "      <td>0.017412</td>\n",
       "    </tr>\n",
       "  </tbody>\n",
       "</table>\n",
       "</div>"
      ],
      "text/plain": [
       "                                 Training execution time  \\\n",
       "Logistic regression                             1.823627   \n",
       "Decision tree with depth of two                 2.305269   \n",
       "Decision tree - unlimited depth                20.980382   \n",
       "Random forest                                  91.366408   \n",
       "SGDClassifier                                   3.477875   \n",
       "SGDClassifier                                   4.549698   \n",
       "\n",
       "                                 Prediction execution time  \n",
       "Logistic regression                               0.020071  \n",
       "Decision tree with depth of two                   0.018057  \n",
       "Decision tree - unlimited depth                   0.015629  \n",
       "Random forest                                     0.267210  \n",
       "SGDClassifier                                     0.030423  \n",
       "SGDClassifier                                     0.017412  "
      ]
     },
     "execution_count": 107,
     "metadata": {},
     "output_type": "execute_result"
    }
   ],
   "source": [
    "#execution time with SGDCClassifier\n",
    "df_execution_times=execution_times_model_collection(fitted_models_and_predictions_dictionary)\n",
    "df_execution_times.loc[4]=[training_execution_time,prediction_execution_time]\n",
    "df_execution_times=df_execution_times.rename(index={4: 'SGDClassifier'})\n",
    "df_execution_times\n"
   ]
  },
  {
   "cell_type": "code",
   "execution_count": 109,
   "metadata": {},
   "outputs": [],
   "source": [
    "fitted_models_and_predictions_dictionary['SGDClassifier']={'classifier': classifier,\n",
    "                                        'predictions_test': predictions_test,\n",
    "                                        'predictions_train': predictions_train,\n",
    "                                        'training_execution_time': training_execution_time,\n",
    "                                        'prediction_execution_time': prediction_execution_time\n",
    "                                       }\n",
    "classifiers_dictionary['SGDClassifier']=0  "
   ]
  },
  {
   "cell_type": "code",
   "execution_count": 110,
   "metadata": {},
   "outputs": [
    {
     "data": {
      "image/png": "[encoded data removed]",
      "text/plain": [
       "<Figure size 360x360 with 1 Axes>"
      ]
     },
     "metadata": {
      "needs_background": "light"
     },
     "output_type": "display_data"
    }
   ],
   "source": [
    "#Curvas roc con el conjunto de entrenamiento utilizando las predicciones hechas con dicho conjunto por cada clasificador\n",
    "def get_template_roc_curve(ax, title,fs,random=True):\n",
    "    \n",
    "    ax.set_title(title, fontsize=fs)\n",
    "    ax.set_xlim([-0.01, 1.01])\n",
    "    ax.set_ylim([-0.01, 1.01])\n",
    "    \n",
    "    ax.set_xlabel('False Positive Rate', fontsize=fs)\n",
    "    ax.set_ylabel('True Positive Rate', fontsize=fs)\n",
    "    \n",
    "    if random:\n",
    "        ax.plot([0, 1], [0, 1],'r--',label=\"AUC ROC Random = 0.5\")\n",
    "# 2 fraudulent and 8 genuine transactions\n",
    "true_labels = [1,1,0,0,0,0,0,0,0,0]d\n",
    "# Probability of fraud for each transaction\n",
    "fraud_probabilities = [0.5]*10\n",
    "FPR_list, TPR_list, threshold = metrics.roc_curve(true_labels, fraud_probabilities, drop_intermediate=False)\n",
    "ROC_AUC = metrics.auc(FPR_list, TPR_list)    \n",
    "roc_curve, ax = plt.subplots(1, 1, figsize=(5,5))\n",
    "cmap = plt.get_cmap('jet')\n",
    "colors={'Logistic regression':cmap(0), 'Decision tree with depth of two':cmap(200), \n",
    "        'Decision tree - unlimited depth':cmap(250),\n",
    "        'Random forest':cmap(70), 'SGDClassifier':cmap(40)}\n",
    "\n",
    "get_template_roc_curve(ax,title='Receiver Operating Characteristic Curve\\nTrain data',fs=15)\n",
    "    \n",
    "for classifier_name in classifiers_dictionary:\n",
    "    \n",
    "    model_and_predictions=fitted_models_and_predictions_dictionary[classifier_name]\n",
    "\n",
    "    FPR_list, TPR_list, threshold = metrics.roc_curve(y_train, model_and_predictions['predictions_train'])\n",
    "    ROC_AUC = metrics.auc(FPR_list, TPR_list)\n",
    "\n",
    "    ax.plot(FPR_list, TPR_list, 'b', color=colors[classifier_name], label = 'AUC ROC {0}= {1:0.3f}'.format(classifier_name,ROC_AUC))\n",
    "    ax.legend(loc = 'upper left',bbox_to_anchor=(1.05, 1))"
   ]
  },
  {
   "cell_type": "markdown",
   "metadata": {},
   "source": [
    "Del gráfico de curva ROC para el conjunto de entrenamiento tenemos que el clasificador logístico,Random forest y arbol de decisión con profundidad ilimitada,son los que presentan valores muy similares en cuanto a rendimiento y también los más altos; notemos que de todos los 5 clasificadores el que tuvo el rendimiento más bajo sigue siendo el de gradiente descendente.\n"
   ]
  },
  {
   "cell_type": "code",
   "execution_count": 111,
   "metadata": {},
   "outputs": [
    {
     "data": {
      "image/png": "[encoded data removed]",
      "text/plain": [
       "<Figure size 432x432 with 1 Axes>"
      ]
     },
     "metadata": {
      "needs_background": "light"
     },
     "output_type": "display_data"
    }
   ],
   "source": [
    "##Curvas de recuperabilidad vs precision con el conjunto de entrenamiento utilizando las predicciones hechas con dicho conjunto por cada clasificador\n",
    "def get_template_pr_curve(ax, title,fs, baseline=0.5):\n",
    "    ax.set_title(title, fontsize=fs)\n",
    "    ax.set_xlim([-0.01, 1.01])\n",
    "    ax.set_ylim([-0.01, 1.01])\n",
    "    \n",
    "    ax.set_xlabel('Recall (True Positive Rate)', fontsize=fs)\n",
    "    ax.set_ylabel('Precision', fontsize=fs)\n",
    "    \n",
    "    ax.plot([0, 1], [baseline, baseline],'r--',label='AP Random = {0:0.3f}'.format(baseline))\n",
    "pr_curve, ax = plt.subplots(1, 1, figsize=(6,6))\n",
    "cmap = plt.get_cmap('jet')\n",
    "colors={'Logistic regression':cmap(0), 'Decision tree with depth of two':cmap(200), \n",
    "        'Decision tree - unlimited depth':cmap(250),\n",
    "        'Random forest':cmap(70), 'SGDClassifier':cmap(40)}\n",
    "\n",
    "get_template_pr_curve(ax, \"Precision Recall (PR) Curve\\nTrain data\",fs=15,baseline=sum(y_test)/len(y_test))\n",
    "    \n",
    "for classifier_name in classifiers_dictionary:\n",
    "    \n",
    "    model_and_predictions=fitted_models_and_predictions_dictionary[classifier_name]\n",
    "\n",
    "    precision, recall, threshold = metrics.precision_recall_curve(y_train, model_and_predictions['predictions_train'])\n",
    "    precision=precision[::-1]\n",
    "    recall=recall[::-1]\n",
    "    \n",
    "    AP = metrics.average_precision_score(y_train, model_and_predictions['predictions_train'])\n",
    "    \n",
    "    ax.step(recall, precision, 'b', color=colors[classifier_name], label = 'AP {0}= {1:0.3f}'.format(classifier_name,AP))\n",
    "    ax.legend(loc = 'upper left',bbox_to_anchor=(1.05, 1))\n",
    "    \n",
    "    \n",
    "plt.subplots_adjust(wspace=0.5, hspace=0.8)"
   ]
  },
  {
   "cell_type": "markdown",
   "metadata": {},
   "source": [
    "Del gráfico de precision vs recuperabilidad, tenemos que los clasificadores Random forest y árbol de decisión con profundidad ilimitada,tuvieron mejor rendimiento con respecto a los otros tres clasificadores, y el clasificador SGD sigue siendo el que tiene el peor rendimiento."
   ]
  },
  {
   "cell_type": "code",
   "execution_count": 113,
   "metadata": {},
   "outputs": [
    {
     "data": {
      "text/plain": [
       "Text(0, 0.5, 'Execution times (s)')"
      ]
     },
     "execution_count": 113,
     "metadata": {},
     "output_type": "execute_result"
    },
    {
     "data": {
      "image/png": "[encoded data removed]",
      "text/plain": [
       "<Figure size 360x288 with 1 Axes>"
      ]
     },
     "metadata": {
      "needs_background": "light"
     },
     "output_type": "display_data"
    }
   ],
   "source": [
    "#Grafico de tiempo de entrenamiento para cada clasificador.\n",
    "x=df_execution_times.index\n",
    "y=df_execution_times['Training execution time']\n",
    "fig_model_selection_execution_times_for_each_model_class, ax = plt.subplots(1, 1, figsize=(5,4))\n",
    "\n",
    "model_classes=x\n",
    "    \n",
    "# width of the bars\n",
    "barWidth = 0.3\n",
    "# The x position of bars\n",
    "r1 = np.arange(len(model_classes))\n",
    "    \n",
    "# Create execution times bars\n",
    "ax.bar(r1, y, \n",
    "        width = barWidth, color = 'black', edgecolor = 'black', \n",
    "        capsize=7)\n",
    "\n",
    "ax.set_xticks(r1+barWidth/2)\n",
    "ax.set_xticklabels(model_classes, rotation = 45, ha=\"right\", fontsize=12)\n",
    "ax.set_title('Execution times \\n for different model classes', fontsize=18)\n",
    "ax.set_xlabel(\"Model class\", fontsize=16)\n",
    "ax.set_ylabel(\"Execution times (s)\", fontsize=15)"
   ]
  },
  {
   "cell_type": "markdown",
   "metadata": {},
   "source": [
    "Del gráfico de tiempos de ejecución para entrenar cada clasificador, los que obtuvieron mejores rendimientos fueron el clasificador de regresión logístico, el arbol de decisión con profundidad dos y el clasificador del gradiente descendente; este gráfico tambien nos dice que seleccionar modelos más complejos como Random forest requiere de más recursos computacionales, esto tal vez se deba a la cantidad de hiperparámetros que requiere este modelo. "
   ]
  },
  {
   "cell_type": "markdown",
   "metadata": {},
   "source": [
    "**Conclusión**: Dado que en este caso la cantidad de fraudes es muy baja, entonces estamos con un dataset imbalanceado (muchos negativos y pocos positivos), por lo que un gráfico como curvas ROC no sirve de mucho, ya que el interés en este problema es mantener la cantidad de falsos positivos lo más bajo posible, y el gráfico de curvas ROC evalua sobre todo el posible rango de FPR; así las cosas el segundo gráfico que es el de precisión vs recuperabilidad nos puede brindar información más acertada sobre cual clasificador se desempeña mejor, ya que este gráfico nos da evidencia de clasificadores que pueden tener una alta recuperación y una alta precisión (lo que indirectamente se traduce en un TPR(porcentaje de verdaderos positivos) alto y un FPR( porcentaje de falsos positivos) bajo). Para este problema entonces los clasificadores ideales serian Random forest y árbol de decisión con profundidad ilimitada, pero dado que estos dos clasificadores computacionalmente son los que más recursos requieren, entonces se puede utilizar el clasificador de regresión logística y identificar un umbral en el que su precisión mejore."
   ]
  },
  {
   "cell_type": "markdown",
   "metadata": {},
   "source": [
    "Tomemos entonces el clasificador de regresión logística y identifiquemos un umbral en el que su precisión sea del 95%, asi el calsificador tendra una precisión del 95% detectando fraudes."
   ]
  },
  {
   "cell_type": "code",
   "execution_count": 130,
   "metadata": {},
   "outputs": [],
   "source": [
    "y_scoreslogistic=fitted_models_and_predictions_dictionary['Logistic regression']['predictions_train']\n",
    "precisionslogistic, recallslogistic, thresholdslogistic = metrics.precision_recall_curve(y_train, y_scoreslogistic)"
   ]
  },
  {
   "cell_type": "code",
   "execution_count": 131,
   "metadata": {},
   "outputs": [
    {
     "data": {
      "text/plain": [
       "3.45568034206296e-08"
      ]
     },
     "execution_count": 131,
     "metadata": {},
     "output_type": "execute_result"
    }
   ],
   "source": [
    "#Umbral para obtener una precisión del 95%\n",
    "threshold_95_precision = thresholdslogistic[np.argmax(precisionslogistic == 0.95)]\n",
    "threshold_95_precision"
   ]
  },
  {
   "cell_type": "markdown",
   "metadata": {},
   "source": [
    "Asi las cosas para obtener una precisión del 95% con el clasificador de regresión logística, a la hora de determinar si una transacción es fraudulenta o no, se debe usar un umbral cercano a t=3.45568034206296e-08"
   ]
  }
 ],
 "metadata": {
  "kernelspec": {
   "display_name": "Python 3",
   "language": "python",
   "name": "python3"
  },
  "language_info": {
   "codemirror_mode": {
    "name": "ipython",
    "version": 3
   },
   "file_extension": ".py",
   "mimetype": "text/x-python",
   "name": "python",
   "nbconvert_exporter": "python",
   "pygments_lexer": "ipython3",
   "version": "3.8.5"
  }
 },
 "nbformat": 4,
 "nbformat_minor": 4
}
